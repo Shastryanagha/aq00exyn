{
 "cells": [
  {
   "cell_type": "code",
   "execution_count": 2,
   "id": "0bdccdae",
   "metadata": {},
   "outputs": [
    {
     "name": "stdout",
     "output_type": "stream",
     "text": [
      "Collecting git+https://github.com/Ana2313/aq00exyn\n",
      "  Cloning https://github.com/Ana2313/aq00exyn to c:\\users\\anagha\\appdata\\local\\temp\\pip-req-build-zzes6yv1\n",
      "Requirement already satisfied: numpy in c:\\users\\anagha\\anaconda3\\lib\\site-packages (from aq00exyn==0.1) (1.20.1)\n",
      "Requirement already satisfied: Pillow in c:\\users\\anagha\\anaconda3\\lib\\site-packages (from aq00exyn==0.1) (8.2.0)\n",
      "Requirement already satisfied: ipywidgets in c:\\users\\anagha\\anaconda3\\lib\\site-packages (from aq00exyn==0.1) (7.6.3)\n",
      "Requirement already satisfied: jupyterlab-widgets>=1.0.0 in c:\\users\\anagha\\anaconda3\\lib\\site-packages (from ipywidgets->aq00exyn==0.1) (1.0.0)\n",
      "Requirement already satisfied: ipython>=4.0.0 in c:\\users\\anagha\\anaconda3\\lib\\site-packages (from ipywidgets->aq00exyn==0.1) (7.22.0)\n",
      "Requirement already satisfied: traitlets>=4.3.1 in c:\\users\\anagha\\anaconda3\\lib\\site-packages (from ipywidgets->aq00exyn==0.1) (5.0.5)\n",
      "Requirement already satisfied: nbformat>=4.2.0 in c:\\users\\anagha\\anaconda3\\lib\\site-packages (from ipywidgets->aq00exyn==0.1) (5.1.3)\n",
      "Requirement already satisfied: ipykernel>=4.5.1 in c:\\users\\anagha\\anaconda3\\lib\\site-packages (from ipywidgets->aq00exyn==0.1) (5.3.4)\n",
      "Requirement already satisfied: widgetsnbextension~=3.5.0 in c:\\users\\anagha\\anaconda3\\lib\\site-packages (from ipywidgets->aq00exyn==0.1) (3.5.1)\n",
      "Requirement already satisfied: jupyter-client in c:\\users\\anagha\\anaconda3\\lib\\site-packages (from ipykernel>=4.5.1->ipywidgets->aq00exyn==0.1) (6.1.12)\n",
      "Requirement already satisfied: tornado>=4.2 in c:\\users\\anagha\\anaconda3\\lib\\site-packages (from ipykernel>=4.5.1->ipywidgets->aq00exyn==0.1) (6.1)\n",
      "Requirement already satisfied: setuptools>=18.5 in c:\\users\\anagha\\anaconda3\\lib\\site-packages (from ipython>=4.0.0->ipywidgets->aq00exyn==0.1) (52.0.0.post20210125)\n",
      "Requirement already satisfied: jedi>=0.16 in c:\\users\\anagha\\anaconda3\\lib\\site-packages (from ipython>=4.0.0->ipywidgets->aq00exyn==0.1) (0.17.2)\n",
      "Requirement already satisfied: prompt-toolkit!=3.0.0,!=3.0.1,<3.1.0,>=2.0.0 in c:\\users\\anagha\\anaconda3\\lib\\site-packages (from ipython>=4.0.0->ipywidgets->aq00exyn==0.1) (3.0.17)\n",
      "Requirement already satisfied: pygments in c:\\users\\anagha\\anaconda3\\lib\\site-packages (from ipython>=4.0.0->ipywidgets->aq00exyn==0.1) (2.8.1)\n",
      "Requirement already satisfied: pickleshare in c:\\users\\anagha\\anaconda3\\lib\\site-packages (from ipython>=4.0.0->ipywidgets->aq00exyn==0.1) (0.7.5)\n",
      "Requirement already satisfied: decorator in c:\\users\\anagha\\anaconda3\\lib\\site-packages (from ipython>=4.0.0->ipywidgets->aq00exyn==0.1) (5.0.6)\n",
      "Requirement already satisfied: colorama in c:\\users\\anagha\\anaconda3\\lib\\site-packages (from ipython>=4.0.0->ipywidgets->aq00exyn==0.1) (0.4.4)\n",
      "Requirement already satisfied: backcall in c:\\users\\anagha\\anaconda3\\lib\\site-packages (from ipython>=4.0.0->ipywidgets->aq00exyn==0.1) (0.2.0)\n",
      "Requirement already satisfied: parso<0.8.0,>=0.7.0 in c:\\users\\anagha\\anaconda3\\lib\\site-packages (from jedi>=0.16->ipython>=4.0.0->ipywidgets->aq00exyn==0.1) (0.7.0)\n",
      "Requirement already satisfied: ipython-genutils in c:\\users\\anagha\\anaconda3\\lib\\site-packages (from nbformat>=4.2.0->ipywidgets->aq00exyn==0.1) (0.2.0)\n",
      "Requirement already satisfied: jupyter-core in c:\\users\\anagha\\anaconda3\\lib\\site-packages (from nbformat>=4.2.0->ipywidgets->aq00exyn==0.1) (4.7.1)\n",
      "Requirement already satisfied: jsonschema!=2.5.0,>=2.4 in c:\\users\\anagha\\anaconda3\\lib\\site-packages (from nbformat>=4.2.0->ipywidgets->aq00exyn==0.1) (3.2.0)\n",
      "Requirement already satisfied: attrs>=17.4.0 in c:\\users\\anagha\\anaconda3\\lib\\site-packages (from jsonschema!=2.5.0,>=2.4->nbformat>=4.2.0->ipywidgets->aq00exyn==0.1) (20.3.0)\n",
      "Requirement already satisfied: pyrsistent>=0.14.0 in c:\\users\\anagha\\anaconda3\\lib\\site-packages (from jsonschema!=2.5.0,>=2.4->nbformat>=4.2.0->ipywidgets->aq00exyn==0.1) (0.17.3)\n",
      "Requirement already satisfied: six>=1.11.0 in c:\\users\\anagha\\anaconda3\\lib\\site-packages (from jsonschema!=2.5.0,>=2.4->nbformat>=4.2.0->ipywidgets->aq00exyn==0.1) (1.15.0)\n",
      "Requirement already satisfied: wcwidth in c:\\users\\anagha\\anaconda3\\lib\\site-packages (from prompt-toolkit!=3.0.0,!=3.0.1,<3.1.0,>=2.0.0->ipython>=4.0.0->ipywidgets->aq00exyn==0.1) (0.2.5)\n",
      "Requirement already satisfied: notebook>=4.4.1 in c:\\users\\anagha\\anaconda3\\lib\\site-packages (from widgetsnbextension~=3.5.0->ipywidgets->aq00exyn==0.1) (6.3.0)\n",
      "Requirement already satisfied: nbconvert in c:\\users\\anagha\\anaconda3\\lib\\site-packages (from notebook>=4.4.1->widgetsnbextension~=3.5.0->ipywidgets->aq00exyn==0.1) (6.0.7)\n",
      "Requirement already satisfied: jinja2 in c:\\users\\anagha\\anaconda3\\lib\\site-packages (from notebook>=4.4.1->widgetsnbextension~=3.5.0->ipywidgets->aq00exyn==0.1) (2.11.3)\n",
      "Requirement already satisfied: Send2Trash>=1.5.0 in c:\\users\\anagha\\anaconda3\\lib\\site-packages (from notebook>=4.4.1->widgetsnbextension~=3.5.0->ipywidgets->aq00exyn==0.1) (1.5.0)\n",
      "Requirement already satisfied: prometheus-client in c:\\users\\anagha\\anaconda3\\lib\\site-packages (from notebook>=4.4.1->widgetsnbextension~=3.5.0->ipywidgets->aq00exyn==0.1) (0.10.1)\n",
      "Requirement already satisfied: terminado>=0.8.3 in c:\\users\\anagha\\anaconda3\\lib\\site-packages (from notebook>=4.4.1->widgetsnbextension~=3.5.0->ipywidgets->aq00exyn==0.1) (0.9.4)\n",
      "Requirement already satisfied: pyzmq>=17 in c:\\users\\anagha\\anaconda3\\lib\\site-packages (from notebook>=4.4.1->widgetsnbextension~=3.5.0->ipywidgets->aq00exyn==0.1) (20.0.0)\n",
      "Requirement already satisfied: argon2-cffi in c:\\users\\anagha\\anaconda3\\lib\\site-packages (from notebook>=4.4.1->widgetsnbextension~=3.5.0->ipywidgets->aq00exyn==0.1) (20.1.0)\n",
      "Requirement already satisfied: python-dateutil>=2.1 in c:\\users\\anagha\\anaconda3\\lib\\site-packages (from jupyter-client->ipykernel>=4.5.1->ipywidgets->aq00exyn==0.1) (2.8.1)\n",
      "Requirement already satisfied: pywin32>=1.0 in c:\\users\\anagha\\anaconda3\\lib\\site-packages (from jupyter-core->nbformat>=4.2.0->ipywidgets->aq00exyn==0.1) (227)\n",
      "Requirement already satisfied: pywinpty>=0.5 in c:\\users\\anagha\\anaconda3\\lib\\site-packages (from terminado>=0.8.3->notebook>=4.4.1->widgetsnbextension~=3.5.0->ipywidgets->aq00exyn==0.1) (0.5.7)\n",
      "Requirement already satisfied: cffi>=1.0.0 in c:\\users\\anagha\\anaconda3\\lib\\site-packages (from argon2-cffi->notebook>=4.4.1->widgetsnbextension~=3.5.0->ipywidgets->aq00exyn==0.1) (1.14.5)\n",
      "Requirement already satisfied: pycparser in c:\\users\\anagha\\anaconda3\\lib\\site-packages (from cffi>=1.0.0->argon2-cffi->notebook>=4.4.1->widgetsnbextension~=3.5.0->ipywidgets->aq00exyn==0.1) (2.20)\n",
      "Requirement already satisfied: MarkupSafe>=0.23 in c:\\users\\anagha\\anaconda3\\lib\\site-packages (from jinja2->notebook>=4.4.1->widgetsnbextension~=3.5.0->ipywidgets->aq00exyn==0.1) (1.1.1)\n",
      "Requirement already satisfied: nbclient<0.6.0,>=0.5.0 in c:\\users\\anagha\\anaconda3\\lib\\site-packages (from nbconvert->notebook>=4.4.1->widgetsnbextension~=3.5.0->ipywidgets->aq00exyn==0.1) (0.5.3)\n",
      "Requirement already satisfied: defusedxml in c:\\users\\anagha\\anaconda3\\lib\\site-packages (from nbconvert->notebook>=4.4.1->widgetsnbextension~=3.5.0->ipywidgets->aq00exyn==0.1) (0.7.1)\n",
      "Requirement already satisfied: pandocfilters>=1.4.1 in c:\\users\\anagha\\anaconda3\\lib\\site-packages (from nbconvert->notebook>=4.4.1->widgetsnbextension~=3.5.0->ipywidgets->aq00exyn==0.1) (1.4.3)\n",
      "Requirement already satisfied: mistune<2,>=0.8.1 in c:\\users\\anagha\\anaconda3\\lib\\site-packages (from nbconvert->notebook>=4.4.1->widgetsnbextension~=3.5.0->ipywidgets->aq00exyn==0.1) (0.8.4)\n",
      "Requirement already satisfied: bleach in c:\\users\\anagha\\anaconda3\\lib\\site-packages (from nbconvert->notebook>=4.4.1->widgetsnbextension~=3.5.0->ipywidgets->aq00exyn==0.1) (3.3.0)\n",
      "Requirement already satisfied: jupyterlab-pygments in c:\\users\\anagha\\anaconda3\\lib\\site-packages (from nbconvert->notebook>=4.4.1->widgetsnbextension~=3.5.0->ipywidgets->aq00exyn==0.1) (0.1.2)\n",
      "Requirement already satisfied: testpath in c:\\users\\anagha\\anaconda3\\lib\\site-packages (from nbconvert->notebook>=4.4.1->widgetsnbextension~=3.5.0->ipywidgets->aq00exyn==0.1) (0.4.4)\n",
      "Requirement already satisfied: entrypoints>=0.2.2 in c:\\users\\anagha\\anaconda3\\lib\\site-packages (from nbconvert->notebook>=4.4.1->widgetsnbextension~=3.5.0->ipywidgets->aq00exyn==0.1) (0.3)\n",
      "Requirement already satisfied: async-generator in c:\\users\\anagha\\anaconda3\\lib\\site-packages (from nbclient<0.6.0,>=0.5.0->nbconvert->notebook>=4.4.1->widgetsnbextension~=3.5.0->ipywidgets->aq00exyn==0.1) (1.10)\n",
      "Requirement already satisfied: nest-asyncio in c:\\users\\anagha\\anaconda3\\lib\\site-packages (from nbclient<0.6.0,>=0.5.0->nbconvert->notebook>=4.4.1->widgetsnbextension~=3.5.0->ipywidgets->aq00exyn==0.1) (1.5.1)\n",
      "Requirement already satisfied: webencodings in c:\\users\\anagha\\anaconda3\\lib\\site-packages (from bleach->nbconvert->notebook>=4.4.1->widgetsnbextension~=3.5.0->ipywidgets->aq00exyn==0.1) (0.5.1)\n",
      "Requirement already satisfied: packaging in c:\\users\\anagha\\anaconda3\\lib\\site-packages (from bleach->nbconvert->notebook>=4.4.1->widgetsnbextension~=3.5.0->ipywidgets->aq00exyn==0.1) (20.9)\n",
      "Requirement already satisfied: pyparsing>=2.0.2 in c:\\users\\anagha\\anaconda3\\lib\\site-packages (from packaging->bleach->nbconvert->notebook>=4.4.1->widgetsnbextension~=3.5.0->ipywidgets->aq00exyn==0.1) (2.4.7)\n"
     ]
    },
    {
     "name": "stderr",
     "output_type": "stream",
     "text": [
      "  Running command git clone -q https://github.com/Ana2313/aq00exyn 'C:\\Users\\Anagha\\AppData\\Local\\Temp\\pip-req-build-zzes6yv1'\n"
     ]
    }
   ],
   "source": [
    " ! pip install git+https://github.com/Ana2313/aq00exyn"
   ]
  },
  {
   "cell_type": "code",
   "execution_count": 9,
   "id": "b28a22e1",
   "metadata": {},
   "outputs": [
    {
     "ename": "ModuleNotFoundError",
     "evalue": "No module named 'aq00exyn'",
     "output_type": "error",
     "traceback": [
      "\u001b[1;31m---------------------------------------------------------------------------\u001b[0m",
      "\u001b[1;31mModuleNotFoundError\u001b[0m                       Traceback (most recent call last)",
      "\u001b[1;32m<ipython-input-9-df921affcbaf>\u001b[0m in \u001b[0;36m<module>\u001b[1;34m\u001b[0m\n\u001b[1;32m----> 1\u001b[1;33m \u001b[1;32mfrom\u001b[0m \u001b[0maq00exyn\u001b[0m \u001b[1;32mimport\u001b[0m \u001b[0mfunction\u001b[0m\u001b[1;33m\u001b[0m\u001b[1;33m\u001b[0m\u001b[0m\n\u001b[0m\u001b[0;32m      2\u001b[0m \u001b[1;33m\u001b[0m\u001b[0m\n",
      "\u001b[1;31mModuleNotFoundError\u001b[0m: No module named 'aq00exyn'"
     ]
    }
   ],
   "source": [
    "function.imshow()\n",
    "\n"
   ]
  },
  {
   "cell_type": "code",
   "execution_count": null,
   "id": "2e5ce422",
   "metadata": {},
   "outputs": [],
   "source": []
  }
 ],
 "metadata": {
  "kernelspec": {
   "display_name": "myvenv",
   "language": "python",
   "name": "myvenv"
  },
  "language_info": {
   "codemirror_mode": {
    "name": "ipython",
    "version": 3
   },
   "file_extension": ".py",
   "mimetype": "text/x-python",
   "name": "python",
   "nbconvert_exporter": "python",
   "pygments_lexer": "ipython3",
   "version": "3.8.8"
  }
 },
 "nbformat": 4,
 "nbformat_minor": 5
}
